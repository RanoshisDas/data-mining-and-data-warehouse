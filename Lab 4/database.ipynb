{
 "cells": [
  {
   "cell_type": "markdown",
   "metadata": {},
   "source": [
    "1. OLTP – Insert and Retrieve Customer Data\n",
    "\n",
    "Question: \n",
    "    Write a Python program to insert and retrieve customer records in a dictionary (simulating an OLTP database).\n",
    "\n",
    "Program Description:\n",
    "\n",
    "    OLTP – Insert and Retrieve Customer Data:\n",
    "    We will create a Python program that simulates an OLTP database using dictionaries.\n",
    "    It allows inserting and retrieving customer records dynamically.\n"
   ]
  },
  {
   "cell_type": "code",
   "execution_count": null,
   "metadata": {},
   "outputs": [
    {
     "name": "stdout",
     "output_type": "stream",
     "text": [
      "Customer Alice added!\n",
      "Customer Bob added!\n",
      "Customer 101 Details: {'name': 'Alice', 'age': 25}\n"
     ]
    }
   ],
   "source": [
    "customers = {}\n",
    "# Insert new customer\n",
    "def insert_customer(id, name, age):\n",
    "    customers[id] = {\"name\": name, \"age\": age}\n",
    "    print(f\"Customer {name} added!\")\n",
    "\n",
    "# Retrieve customer\n",
    "def get_customer(id):\n",
    "    return customers.get(id, \"Customer not found!\")\n",
    "    \n",
    "# Insert and Retrieve\n",
    "insert_customer(101, \"Alice\", 25)\n",
    "insert_customer(102, \"Bob\", 30)\n",
    "print(\"Customer 101 Details:\", get_customer(101))"
   ]
  },
  {
   "cell_type": "markdown",
   "metadata": {},
   "source": [
    "2. Multidimensional Data Model Representation\n",
    "\n",
    "Question: Create a Python program to represent a simple 3D data cube for sales data and retrieve values.\n",
    "\n",
    "Program Description:\n",
    "\n",
    "Multidimensional Data Model Representation\n",
    "\n",
    "•\tWe will implement a 3D data cube to store sales data across different stores, products, and years.\n",
    "\n",
    "•\tThe program retrieves specific sales data from the cube for analysis.\n"
   ]
  },
  {
   "cell_type": "code",
   "execution_count": 2,
   "metadata": {},
   "outputs": [
    {
     "name": "stdout",
     "output_type": "stream",
     "text": [
      "Sales in Store_A for Laptop in 2024: 1200\n"
     ]
    }
   ],
   "source": [
    "sales_cube = {\n",
    "    \"Store_A\": {\n",
    "        \"Laptop\": {2023: 1000, 2024: 1200},\n",
    "        \"Phone\": {2023: 800, 2024: 950},\n",
    "    },\n",
    "    \"Store_B\": {\n",
    "        \"Laptop\": {2023: 1100, 2024: 1300},\n",
    "        \"Phone\": {2023: 850, 2024: 900},\n",
    "    }\n",
    "}\n",
    "# Retrieving sales data for Store_A, Laptop in 2024\n",
    "print(\"Sales in Store_A for Laptop in 2024:\", sales_cube[\"Store_A\"][\"Laptop\"][2024])\n"
   ]
  },
  {
   "cell_type": "markdown",
   "metadata": {},
   "source": [
    "3. Data Warehouse Schema - Star Schema Example\n",
    "\n",
    "Question: Write a Python program to represent a star schema using dictionary data structures.\n",
    "\n",
    "Program Description:\n",
    "\n",
    "Data Warehouse Schema - Star Schema Example\n",
    "\n",
    "•\tWe will represent a star schema using dictionaries to store fact and dimension tables.\n",
    "\n",
    "•\tThe program will query and display sales records with assocl’=iated dimension details.\n"
   ]
  },
  {
   "cell_type": "code",
   "execution_count": 3,
   "metadata": {},
   "outputs": [
    {
     "name": "stdout",
     "output_type": "stream",
     "text": [
      "Date: 2024-01-01, Product: Laptop, Store: Store_A, Amount: 500\n",
      "Date: 2024-01-02, Product: Phone, Store: Store_B, Amount: 700\n"
     ]
    }
   ],
   "source": [
    "fact_sales = [\n",
    "    {\"Sales_ID\": 1, \"Date_ID\": 101, \"Product_ID\": 201, \"Store_ID\": 301, \"Amount\": 500},\n",
    "    {\"Sales_ID\": 2, \"Date_ID\": 102, \"Product_ID\": 202, \"Store_ID\": 302, \"Amount\": 700},\n",
    "]\n",
    "# Dimension Tables\n",
    "dim_date = {101: \"2024-01-01\", 102: \"2024-01-02\"}\n",
    "dim_product = {201: \"Laptop\", 202: \"Phone\"}\n",
    "dim_store = {301: \"Store_A\", 302: \"Store_B\"}\n",
    "# Query: Retrieve sales details with dimension names\n",
    "for sale in fact_sales:\n",
    "    print(f\"Date: {dim_date[sale['Date_ID']]}, Product: {dim_product[sale['Product_ID']]}, \"\n",
    "          f\"Store: {dim_store[sale['Store_ID']]}, Amount: {sale['Amount']}\")"
   ]
  },
  {
   "cell_type": "markdown",
   "metadata": {},
   "source": [
    "4. OLAP vs. OLTP – Difference in Queries\n",
    "\n",
    "Question: Write Python functions to simulate an OLTP (single transaction) and an OLAP (aggregate query) operation.\n",
    "\n",
    "Program Description:\n",
    "\n",
    "OLAP vs. OLTP – Difference in Queries\n",
    "\n",
    "•\tWe will implement an OLTP function for single transactions (depositing into a bank account).\n",
    "\n",
    "•\tAn OLAP function will perform an aggregate operation (summation of sales data).\n"
   ]
  },
  {
   "cell_type": "code",
   "execution_count": 4,
   "metadata": {},
   "outputs": [
    {
     "name": "stdout",
     "output_type": "stream",
     "text": [
      "Deposit Successful! New Balance: 2500\n",
      "Total Sales (OLAP Aggregate Query): 7000\n"
     ]
    }
   ],
   "source": [
    "class BankAccount:\n",
    "    def __init__(self, balance):\n",
    "        self.balance = balance\n",
    "    def deposit(self, amount):\n",
    "        self.balance += amount\n",
    "        print(f\"Deposit Successful! New Balance: {self.balance}\")\n",
    "# OLAP - Aggregate operation (Summing sales)\n",
    "def total_sales(sales):\n",
    "    return sum(sales)\n",
    "# OLTP Example\n",
    "account = BankAccount(2000)\n",
    "account.deposit(500)  # Single transaction\n",
    "# OLAP Example\n",
    "sales_data = [1000, 1500, 2000, 2500]  # Sales data from different regions\n",
    "print(\"Total Sales (OLAP Aggregate Query):\", total_sales(sales_data))"
   ]
  },
  {
   "cell_type": "markdown",
   "metadata": {},
   "source": [
    "5. OLTP Transaction Simulation\n",
    "\n",
    "Question: Write a Python program to simulate an OLTP transaction (withdrawal from a bank account).\n",
    "\n",
    "Program Description:\n",
    "\n",
    "OLTP Transaction Simulation\n",
    "\n",
    "•\tWe will simulate an OLTP transaction by implementing a withdrawal operation in a bank account.\n",
    "\n",
    "•\tThe program ensures transaction validation by checking the available balance before withdrawal.\n"
   ]
  },
  {
   "cell_type": "code",
   "execution_count": 6,
   "metadata": {},
   "outputs": [
    {
     "name": "stdout",
     "output_type": "stream",
     "text": [
      "Transaction Successful! New Balance: 4000\n",
      "Transaction Successful! New Balance: 0\n"
     ]
    }
   ],
   "source": [
    "class BankAccount:\n",
    "    def __init__(self, balance):\n",
    "        self.balance = balance\n",
    "    def withdraw(self, amount):\n",
    "        if amount > self.balance:\n",
    "            print(\"Transaction Failed: Insufficient Balance\")\n",
    "        else:\n",
    "            self.balance -= amount\n",
    "            print(f\"Transaction Successful! New Balance: {self.balance}\")\n",
    "# Create an account with $5000 balance\n",
    "account = BankAccount(5000)\n",
    "# Withdraw $1000 (OLTP Transaction)\n",
    "account.withdraw(1000)\n",
    "# Withdraw $5000 (OLTP Transaction)\n",
    "account.withdraw(4000)"
   ]
  }
 ],
 "metadata": {
  "kernelspec": {
   "display_name": "Python 3",
   "language": "python",
   "name": "python3"
  },
  "language_info": {
   "codemirror_mode": {
    "name": "ipython",
    "version": 3
   },
   "file_extension": ".py",
   "mimetype": "text/x-python",
   "name": "python",
   "nbconvert_exporter": "python",
   "pygments_lexer": "ipython3",
   "version": "3.12.1"
  }
 },
 "nbformat": 4,
 "nbformat_minor": 2
}
